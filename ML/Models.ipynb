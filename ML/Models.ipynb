{
 "cells": [
  {
   "cell_type": "code",
   "execution_count": 2,
   "id": "43f0700d",
   "metadata": {},
   "outputs": [],
   "source": [
    "# importing required libraries\n",
    "import numpy as np\n",
    "import pandas as pd\n",
    "import pickle\n",
    "from sklearn.preprocessing import StandardScaler\n",
    "from sklearn.model_selection import train_test_split\n",
    "from sklearn.metrics import accuracy_score, classification_report, confusion_matrix\n",
    "from sklearn.ensemble import RandomForestClassifier\n",
    "from sklearn.svm import SVC\n",
    "from sklearn.linear_model import LogisticRegression\n",
    "from sklearn.neighbors import KNeighborsClassifier\n",
    "from sklearn.ensemble import RandomForestClassifier\n",
    "from sklearn.naive_bayes import BernoulliNB\n",
    "from sklearn.metrics import roc_curve, roc_auc_score\n",
    "from sklearn.metrics import plot_roc_curve\n",
    "from sklearn.ensemble import BaggingClassifier"
   ]
  },
  {
   "cell_type": "code",
   "execution_count": 3,
   "id": "2e0db5b2",
   "metadata": {},
   "outputs": [],
   "source": [
    "heart = pd.read_csv(\"heart_cleveland.csv\")"
   ]
  },
  {
   "cell_type": "code",
   "execution_count": 4,
   "id": "e35deb3d",
   "metadata": {},
   "outputs": [
    {
     "name": "stdout",
     "output_type": "stream",
     "text": [
      "   age  sex  cp  trestbps  chol  fbs  restecg  thalach  exang  oldpeak  slope  \\\n",
      "0   69    1   0       160   234    1        2      131      0      0.1      1   \n",
      "1   69    0   0       140   239    0        0      151      0      1.8      0   \n",
      "2   66    0   0       150   226    0        0      114      0      2.6      2   \n",
      "3   65    1   0       138   282    1        2      174      0      1.4      1   \n",
      "4   64    1   0       110   211    0        2      144      1      1.8      1   \n",
      "\n",
      "   ca  thal  target  \n",
      "0   1     0       0  \n",
      "1   2     0       0  \n",
      "2   0     0       0  \n",
      "3   1     0       1  \n",
      "4   0     0       0  \n"
     ]
    }
   ],
   "source": [
    "heart_df = heart.copy()\n",
    "\n",
    "# Renaming some of the columns\n",
    "heart_df = heart_df.rename(columns={'condition': 'target'})\n",
    "print(heart_df.head())"
   ]
  },
  {
   "cell_type": "code",
   "execution_count": 5,
   "id": "aad4e207",
   "metadata": {},
   "outputs": [
    {
     "name": "stdout",
     "output_type": "stream",
     "text": [
      "Index(['age', 'sex', 'cp', 'trestbps', 'chol', 'fbs', 'restecg', 'thalach',\n",
      "       'exang', 'oldpeak', 'slope', 'ca', 'thal', 'target'],\n",
      "      dtype='object')\n"
     ]
    }
   ],
   "source": [
    "print(heart_df.keys())"
   ]
  },
  {
   "cell_type": "code",
   "execution_count": 6,
   "id": "3a44b92f",
   "metadata": {},
   "outputs": [],
   "source": [
    "#fixing our data in x and y. Here y contains target data and X contains rest all the features.\n",
    "xData = heart_df.drop(columns='target')\n",
    "y = heart_df.target"
   ]
  },
  {
   "cell_type": "code",
   "execution_count": 7,
   "id": "73fa2532",
   "metadata": {},
   "outputs": [],
   "source": [
    "# Normalize\n",
    "x = (xData - np.min(xData)) / (np.max(xData) - np.min(xData)).values\n",
    "\n",
    "x_train, x_test, y_train, y_test = train_test_split(x,y,test_size = 0.3,random_state=35)"
   ]
  },
  {
   "cell_type": "code",
   "execution_count": 8,
   "id": "8135a324",
   "metadata": {
    "scrolled": true
   },
   "outputs": [
    {
     "data": {
      "text/html": [
       "<div>\n",
       "<style scoped>\n",
       "    .dataframe tbody tr th:only-of-type {\n",
       "        vertical-align: middle;\n",
       "    }\n",
       "\n",
       "    .dataframe tbody tr th {\n",
       "        vertical-align: top;\n",
       "    }\n",
       "\n",
       "    .dataframe thead th {\n",
       "        text-align: right;\n",
       "    }\n",
       "</style>\n",
       "<table border=\"1\" class=\"dataframe\">\n",
       "  <thead>\n",
       "    <tr style=\"text-align: right;\">\n",
       "      <th></th>\n",
       "      <th>age</th>\n",
       "      <th>sex</th>\n",
       "      <th>cp</th>\n",
       "      <th>trestbps</th>\n",
       "      <th>chol</th>\n",
       "      <th>fbs</th>\n",
       "      <th>restecg</th>\n",
       "      <th>thalach</th>\n",
       "      <th>exang</th>\n",
       "      <th>oldpeak</th>\n",
       "      <th>slope</th>\n",
       "      <th>ca</th>\n",
       "      <th>thal</th>\n",
       "    </tr>\n",
       "  </thead>\n",
       "  <tbody>\n",
       "    <tr>\n",
       "      <th>0</th>\n",
       "      <td>0.833333</td>\n",
       "      <td>1.0</td>\n",
       "      <td>0.0</td>\n",
       "      <td>0.622642</td>\n",
       "      <td>0.246575</td>\n",
       "      <td>1.0</td>\n",
       "      <td>1.0</td>\n",
       "      <td>0.458015</td>\n",
       "      <td>0.0</td>\n",
       "      <td>0.016129</td>\n",
       "      <td>0.5</td>\n",
       "      <td>0.333333</td>\n",
       "      <td>0.0</td>\n",
       "    </tr>\n",
       "    <tr>\n",
       "      <th>1</th>\n",
       "      <td>0.833333</td>\n",
       "      <td>0.0</td>\n",
       "      <td>0.0</td>\n",
       "      <td>0.433962</td>\n",
       "      <td>0.257991</td>\n",
       "      <td>0.0</td>\n",
       "      <td>0.0</td>\n",
       "      <td>0.610687</td>\n",
       "      <td>0.0</td>\n",
       "      <td>0.290323</td>\n",
       "      <td>0.0</td>\n",
       "      <td>0.666667</td>\n",
       "      <td>0.0</td>\n",
       "    </tr>\n",
       "    <tr>\n",
       "      <th>2</th>\n",
       "      <td>0.770833</td>\n",
       "      <td>0.0</td>\n",
       "      <td>0.0</td>\n",
       "      <td>0.528302</td>\n",
       "      <td>0.228311</td>\n",
       "      <td>0.0</td>\n",
       "      <td>0.0</td>\n",
       "      <td>0.328244</td>\n",
       "      <td>0.0</td>\n",
       "      <td>0.419355</td>\n",
       "      <td>1.0</td>\n",
       "      <td>0.000000</td>\n",
       "      <td>0.0</td>\n",
       "    </tr>\n",
       "    <tr>\n",
       "      <th>3</th>\n",
       "      <td>0.750000</td>\n",
       "      <td>1.0</td>\n",
       "      <td>0.0</td>\n",
       "      <td>0.415094</td>\n",
       "      <td>0.356164</td>\n",
       "      <td>1.0</td>\n",
       "      <td>1.0</td>\n",
       "      <td>0.786260</td>\n",
       "      <td>0.0</td>\n",
       "      <td>0.225806</td>\n",
       "      <td>0.5</td>\n",
       "      <td>0.333333</td>\n",
       "      <td>0.0</td>\n",
       "    </tr>\n",
       "    <tr>\n",
       "      <th>4</th>\n",
       "      <td>0.729167</td>\n",
       "      <td>1.0</td>\n",
       "      <td>0.0</td>\n",
       "      <td>0.150943</td>\n",
       "      <td>0.194064</td>\n",
       "      <td>0.0</td>\n",
       "      <td>1.0</td>\n",
       "      <td>0.557252</td>\n",
       "      <td>1.0</td>\n",
       "      <td>0.290323</td>\n",
       "      <td>0.5</td>\n",
       "      <td>0.000000</td>\n",
       "      <td>0.0</td>\n",
       "    </tr>\n",
       "    <tr>\n",
       "      <th>...</th>\n",
       "      <td>...</td>\n",
       "      <td>...</td>\n",
       "      <td>...</td>\n",
       "      <td>...</td>\n",
       "      <td>...</td>\n",
       "      <td>...</td>\n",
       "      <td>...</td>\n",
       "      <td>...</td>\n",
       "      <td>...</td>\n",
       "      <td>...</td>\n",
       "      <td>...</td>\n",
       "      <td>...</td>\n",
       "      <td>...</td>\n",
       "    </tr>\n",
       "    <tr>\n",
       "      <th>292</th>\n",
       "      <td>0.229167</td>\n",
       "      <td>1.0</td>\n",
       "      <td>1.0</td>\n",
       "      <td>0.547170</td>\n",
       "      <td>0.221461</td>\n",
       "      <td>0.0</td>\n",
       "      <td>0.0</td>\n",
       "      <td>0.839695</td>\n",
       "      <td>0.0</td>\n",
       "      <td>0.000000</td>\n",
       "      <td>0.0</td>\n",
       "      <td>0.000000</td>\n",
       "      <td>1.0</td>\n",
       "    </tr>\n",
       "    <tr>\n",
       "      <th>293</th>\n",
       "      <td>0.208333</td>\n",
       "      <td>1.0</td>\n",
       "      <td>1.0</td>\n",
       "      <td>0.226415</td>\n",
       "      <td>0.212329</td>\n",
       "      <td>0.0</td>\n",
       "      <td>0.0</td>\n",
       "      <td>0.526718</td>\n",
       "      <td>0.0</td>\n",
       "      <td>0.193548</td>\n",
       "      <td>0.5</td>\n",
       "      <td>0.000000</td>\n",
       "      <td>1.0</td>\n",
       "    </tr>\n",
       "    <tr>\n",
       "      <th>294</th>\n",
       "      <td>0.125000</td>\n",
       "      <td>1.0</td>\n",
       "      <td>1.0</td>\n",
       "      <td>0.245283</td>\n",
       "      <td>0.164384</td>\n",
       "      <td>0.0</td>\n",
       "      <td>0.0</td>\n",
       "      <td>0.450382</td>\n",
       "      <td>1.0</td>\n",
       "      <td>0.258065</td>\n",
       "      <td>0.5</td>\n",
       "      <td>0.000000</td>\n",
       "      <td>1.0</td>\n",
       "    </tr>\n",
       "    <tr>\n",
       "      <th>295</th>\n",
       "      <td>0.125000</td>\n",
       "      <td>0.0</td>\n",
       "      <td>1.0</td>\n",
       "      <td>0.415094</td>\n",
       "      <td>0.130137</td>\n",
       "      <td>0.0</td>\n",
       "      <td>0.0</td>\n",
       "      <td>0.847328</td>\n",
       "      <td>0.0</td>\n",
       "      <td>0.225806</td>\n",
       "      <td>0.0</td>\n",
       "      <td>0.000000</td>\n",
       "      <td>0.0</td>\n",
       "    </tr>\n",
       "    <tr>\n",
       "      <th>296</th>\n",
       "      <td>0.125000</td>\n",
       "      <td>1.0</td>\n",
       "      <td>1.0</td>\n",
       "      <td>0.301887</td>\n",
       "      <td>0.356164</td>\n",
       "      <td>0.0</td>\n",
       "      <td>1.0</td>\n",
       "      <td>0.648855</td>\n",
       "      <td>1.0</td>\n",
       "      <td>0.000000</td>\n",
       "      <td>0.0</td>\n",
       "      <td>0.000000</td>\n",
       "      <td>1.0</td>\n",
       "    </tr>\n",
       "  </tbody>\n",
       "</table>\n",
       "<p>297 rows × 13 columns</p>\n",
       "</div>"
      ],
      "text/plain": [
       "          age  sex   cp  trestbps      chol  fbs  restecg   thalach  exang  \\\n",
       "0    0.833333  1.0  0.0  0.622642  0.246575  1.0      1.0  0.458015    0.0   \n",
       "1    0.833333  0.0  0.0  0.433962  0.257991  0.0      0.0  0.610687    0.0   \n",
       "2    0.770833  0.0  0.0  0.528302  0.228311  0.0      0.0  0.328244    0.0   \n",
       "3    0.750000  1.0  0.0  0.415094  0.356164  1.0      1.0  0.786260    0.0   \n",
       "4    0.729167  1.0  0.0  0.150943  0.194064  0.0      1.0  0.557252    1.0   \n",
       "..        ...  ...  ...       ...       ...  ...      ...       ...    ...   \n",
       "292  0.229167  1.0  1.0  0.547170  0.221461  0.0      0.0  0.839695    0.0   \n",
       "293  0.208333  1.0  1.0  0.226415  0.212329  0.0      0.0  0.526718    0.0   \n",
       "294  0.125000  1.0  1.0  0.245283  0.164384  0.0      0.0  0.450382    1.0   \n",
       "295  0.125000  0.0  1.0  0.415094  0.130137  0.0      0.0  0.847328    0.0   \n",
       "296  0.125000  1.0  1.0  0.301887  0.356164  0.0      1.0  0.648855    1.0   \n",
       "\n",
       "      oldpeak  slope        ca  thal  \n",
       "0    0.016129    0.5  0.333333   0.0  \n",
       "1    0.290323    0.0  0.666667   0.0  \n",
       "2    0.419355    1.0  0.000000   0.0  \n",
       "3    0.225806    0.5  0.333333   0.0  \n",
       "4    0.290323    0.5  0.000000   0.0  \n",
       "..        ...    ...       ...   ...  \n",
       "292  0.000000    0.0  0.000000   1.0  \n",
       "293  0.193548    0.5  0.000000   1.0  \n",
       "294  0.258065    0.5  0.000000   1.0  \n",
       "295  0.225806    0.0  0.000000   0.0  \n",
       "296  0.000000    0.0  0.000000   1.0  \n",
       "\n",
       "[297 rows x 13 columns]"
      ]
     },
     "execution_count": 8,
     "metadata": {},
     "output_type": "execute_result"
    }
   ],
   "source": [
    "x"
   ]
  },
  {
   "cell_type": "code",
   "execution_count": 8,
   "id": "f99ea098",
   "metadata": {},
   "outputs": [],
   "source": [
    "svm = SVC(random_state=0,C= 100, kernel= 'rbf')\n",
    "svm.fit(x_train, y_train)\n",
    "#acc = svm.score(x_test,y_test)*100\n",
    "#print(\"Test Accuracy of SVM Algorithm: {:.2f}%\".format(acc))\n",
    "filename = 'svm.pkl'\n",
    "pickle.dump(svm, open(filename, 'wb'))"
   ]
  },
  {
   "cell_type": "code",
   "execution_count": 9,
   "id": "caea01e0",
   "metadata": {},
   "outputs": [
    {
     "data": {
      "text/plain": [
       "'svm = SVC(random_state=0,C= 100, kernel= \\'rbf\\')\\nmodel= BaggingClassifier(base_estimator=svm, n_estimators=35, random_state=32)\\nmodel.fit(x_train, y_train)\\nsvm.fit(x_train, y_train)\\n#acc = svm.score(x_test,y_test)*100\\nacc = model.score(x_test,y_test)*100\\nprint(\"Test Accuracy of SVM Algorithm: {:.2f}%\".format(acc))\\n#filename = \\'svm.pkl\\'\\n#pickle.dump(svm, open(filename, \\'wb\\'))'"
      ]
     },
     "execution_count": 9,
     "metadata": {},
     "output_type": "execute_result"
    }
   ],
   "source": [
    "\"\"\"svm = SVC(random_state=0,C= 100, kernel= 'rbf')\n",
    "model= BaggingClassifier(base_estimator=svm, n_estimators=35, random_state=32)\n",
    "model.fit(x_train, y_train)\n",
    "svm.fit(x_train, y_train)\n",
    "#acc = svm.score(x_test,y_test)*100\n",
    "acc = model.score(x_test,y_test)*100\n",
    "print(\"Test Accuracy of SVM Algorithm: {:.2f}%\".format(acc))\n",
    "#filename = 'svm.pkl'\n",
    "#pickle.dump(svm, open(filename, 'wb'))\"\"\""
   ]
  },
  {
   "cell_type": "code",
   "execution_count": 10,
   "id": "e524b086",
   "metadata": {},
   "outputs": [],
   "source": [
    "ypred_svm=svm.predict(x_test)\n",
    "#ypred_svm=model.predict(x_test)"
   ]
  },
  {
   "cell_type": "code",
   "execution_count": 11,
   "id": "99de4eef",
   "metadata": {},
   "outputs": [],
   "source": [
    "r=classification_report(y_test,ypred_svm)"
   ]
  },
  {
   "cell_type": "code",
   "execution_count": 12,
   "id": "e89416a3",
   "metadata": {
    "scrolled": true
   },
   "outputs": [
    {
     "name": "stdout",
     "output_type": "stream",
     "text": [
      "              precision    recall  f1-score   support\n",
      "\n",
      "           0       0.85      0.90      0.87        49\n",
      "           1       0.87      0.80      0.84        41\n",
      "\n",
      "    accuracy                           0.86        90\n",
      "   macro avg       0.86      0.85      0.85        90\n",
      "weighted avg       0.86      0.86      0.85        90\n",
      "\n"
     ]
    }
   ],
   "source": [
    "print(r)"
   ]
  },
  {
   "cell_type": "code",
   "execution_count": 13,
   "id": "338a56b0",
   "metadata": {},
   "outputs": [
    {
     "name": "stdout",
     "output_type": "stream",
     "text": [
      "[[44  5]\n",
      " [ 8 33]]\n"
     ]
    }
   ],
   "source": [
    " c_matrix = confusion_matrix(y_test, ypred_svm)\n",
    "print(c_matrix)"
   ]
  },
  {
   "cell_type": "code",
   "execution_count": 14,
   "id": "2bb49206",
   "metadata": {},
   "outputs": [
    {
     "data": {
      "text/plain": [
       "<sklearn.metrics._plot.roc_curve.RocCurveDisplay at 0x1cb395f1d00>"
      ]
     },
     "execution_count": 14,
     "metadata": {},
     "output_type": "execute_result"
    },
    {
     "data": {
      "image/png": "[encoded data removed]",
      "text/plain": [
       "<Figure size 432x288 with 1 Axes>"
      ]
     },
     "metadata": {
      "needs_background": "light"
     },
     "output_type": "display_data"
    }
   ],
   "source": [
    "#plot_roc_curve(model,x_test,y_test)\n",
    "plot_roc_curve(svm,x_test,y_test)"
   ]
  },
  {
   "cell_type": "code",
   "execution_count": 15,
   "id": "c5358552",
   "metadata": {},
   "outputs": [
    {
     "name": "stdout",
     "output_type": "stream",
     "text": [
      "Test Accuracy 86.67%\n"
     ]
    }
   ],
   "source": [
    "lr = LogisticRegression(C=5)\n",
    "lr.fit(x_train,y_train)\n",
    "y\n",
    "acc = lr.score(x_test,y_test)*100\n",
    "print(\"Test Accuracy {:.2f}%\".format(acc))\n",
    "filename = 'logisticRegression.pkl'\n",
    "pickle.dump(lr, open(filename, 'wb'))"
   ]
  },
  {
   "cell_type": "code",
   "execution_count": 16,
   "id": "db16d19e",
   "metadata": {},
   "outputs": [
    {
     "name": "stdout",
     "output_type": "stream",
     "text": [
      "              precision    recall  f1-score   support\n",
      "\n",
      "           0       0.84      0.94      0.88        49\n",
      "           1       0.91      0.78      0.84        41\n",
      "\n",
      "    accuracy                           0.87        90\n",
      "   macro avg       0.88      0.86      0.86        90\n",
      "weighted avg       0.87      0.87      0.87        90\n",
      "\n",
      "[[46  3]\n",
      " [ 9 32]]\n"
     ]
    }
   ],
   "source": [
    "ypred_lr=lr.predict(x_test)\n",
    "r=classification_report(y_test,ypred_lr)\n",
    "c_matrix_lr=confusion_matrix(y_test, ypred_lr)\n",
    "print(r)\n",
    "print(c_matrix_lr)"
   ]
  },
  {
   "cell_type": "code",
   "execution_count": 17,
   "id": "6140c7a7",
   "metadata": {
    "scrolled": true
   },
   "outputs": [
    {
     "data": {
      "text/plain": [
       "<sklearn.metrics._plot.roc_curve.RocCurveDisplay at 0x1cb38f9c6a0>"
      ]
     },
     "execution_count": 17,
     "metadata": {},
     "output_type": "execute_result"
    },
    {
     "data": {
      "image/png": "[encoded data removed]",
      "text/plain": [
       "<Figure size 432x288 with 1 Axes>"
      ]
     },
     "metadata": {
      "needs_background": "light"
     },
     "output_type": "display_data"
    }
   ],
   "source": [
    "plot_roc_curve(lr,x_test,y_test)"
   ]
  },
  {
   "cell_type": "code",
   "execution_count": 18,
   "id": "6359df3b",
   "metadata": {},
   "outputs": [
    {
     "data": {
      "text/plain": [
       "\"'nb = GaussianNB(priors = None)\\nnb.fit(x_train, y_train)\\nprint('accuracy',nb.score(x_test,y_test)*100)\\nfilename = 'nb.pkl'\\npickle.dump(nb, open(filename, 'wb'))\""
      ]
     },
     "execution_count": 18,
     "metadata": {},
     "output_type": "execute_result"
    }
   ],
   "source": [
    "''''nb = GaussianNB(priors = None)\n",
    "nb.fit(x_train, y_train)\n",
    "print('accuracy',nb.score(x_test,y_test)*100)\n",
    "filename = 'nb.pkl'\n",
    "pickle.dump(nb, open(filename, 'wb'))'''"
   ]
  },
  {
   "cell_type": "code",
   "execution_count": 19,
   "id": "247e2ff8",
   "metadata": {},
   "outputs": [
    {
     "data": {
      "text/plain": [
       "'ypred_nb=nb.predict(x_test)\\nr=classification_report(y_test,ypred_nb)\\nc_matrix_nb=confusion_matrix(y_test, ypred_nb)\\nprint(r)\\nprint(c_matrix_nb)'"
      ]
     },
     "execution_count": 19,
     "metadata": {},
     "output_type": "execute_result"
    }
   ],
   "source": [
    "'''ypred_nb=nb.predict(x_test)\n",
    "r=classification_report(y_test,ypred_nb)\n",
    "c_matrix_nb=confusion_matrix(y_test, ypred_nb)\n",
    "print(r)\n",
    "print(c_matrix_nb)'''"
   ]
  },
  {
   "cell_type": "code",
   "execution_count": 20,
   "id": "5b98755b",
   "metadata": {},
   "outputs": [
    {
     "name": "stdout",
     "output_type": "stream",
     "text": [
      "[0]\n",
      "accuracy 82.22222222222221\n"
     ]
    }
   ],
   "source": [
    "from sklearn.naive_bayes import BernoulliNB\n",
    "nb = BernoulliNB()\n",
    "nb.fit(x_train, y_train)\n",
    "print(nb.predict(x_train[2:3]))\n",
    "print('accuracy',nb.score(x_test,y_test)*100)\n",
    "filename = 'nb.pkl'\n",
    "pickle.dump(nb, open(filename, 'wb'))"
   ]
  },
  {
   "cell_type": "code",
   "execution_count": 21,
   "id": "eb41edca",
   "metadata": {},
   "outputs": [
    {
     "data": {
      "text/plain": [
       "<sklearn.metrics._plot.roc_curve.RocCurveDisplay at 0x1cb39de0e80>"
      ]
     },
     "execution_count": 21,
     "metadata": {},
     "output_type": "execute_result"
    },
    {
     "data": {
      "image/png": "[encoded data removed]",
      "text/plain": [
       "<Figure size 432x288 with 1 Axes>"
      ]
     },
     "metadata": {
      "needs_background": "light"
     },
     "output_type": "display_data"
    }
   ],
   "source": [
    "plot_roc_curve(nb,x_test,y_test)"
   ]
  },
  {
   "cell_type": "code",
   "execution_count": 22,
   "id": "8ac8227b",
   "metadata": {},
   "outputs": [
    {
     "name": "stdout",
     "output_type": "stream",
     "text": [
      "Test Accuracy 82.22\n"
     ]
    }
   ],
   "source": [
    "rf=RandomForestClassifier(n_estimators=1000,random_state=10)\n",
    "rf.fit(x_train,y_train)\n",
    "acc=rf.score(x_test,y_test)*100\n",
    "print(\"Test Accuracy {:.2f}\".format(acc))\n",
    "filename = 'randomForest.pkl'\n",
    "pickle.dump(rf, open(filename, 'wb'))"
   ]
  },
  {
   "cell_type": "code",
   "execution_count": 23,
   "id": "b8a05e85",
   "metadata": {},
   "outputs": [
    {
     "name": "stdout",
     "output_type": "stream",
     "text": [
      "              precision    recall  f1-score   support\n",
      "\n",
      "           0       0.80      0.90      0.85        49\n",
      "           1       0.86      0.73      0.79        41\n",
      "\n",
      "    accuracy                           0.82        90\n",
      "   macro avg       0.83      0.81      0.82        90\n",
      "weighted avg       0.83      0.82      0.82        90\n",
      "\n",
      "[[46  3]\n",
      " [ 9 32]]\n"
     ]
    }
   ],
   "source": [
    "ypred_rf=rf.predict(x_test)\n",
    "r=classification_report(y_test,ypred_rf)\n",
    "c_matrix_rf=confusion_matrix(y_test, ypred_rf)\n",
    "print(r)\n",
    "print(c_matrix_lr)"
   ]
  },
  {
   "cell_type": "code",
   "execution_count": 24,
   "id": "9ee670e8",
   "metadata": {},
   "outputs": [
    {
     "data": {
      "text/plain": [
       "<sklearn.metrics._plot.roc_curve.RocCurveDisplay at 0x1cb3a5f14f0>"
      ]
     },
     "execution_count": 24,
     "metadata": {},
     "output_type": "execute_result"
    },
    {
     "data": {
      "image/png": "[encoded data removed]",
      "text/plain": [
       "<Figure size 432x288 with 1 Axes>"
      ]
     },
     "metadata": {
      "needs_background": "light"
     },
     "output_type": "display_data"
    }
   ],
   "source": [
    "plot_roc_curve(rf,x_test,y_test)"
   ]
  },
  {
   "cell_type": "code",
   "execution_count": null,
   "id": "084450bd",
   "metadata": {},
   "outputs": [],
   "source": []
  },
  {
   "cell_type": "markdown",
   "id": "095aa04a",
   "metadata": {},
   "source": [
    "# hypertuning the models"
   ]
  },
  {
   "cell_type": "code",
   "execution_count": 31,
   "id": "22875065",
   "metadata": {},
   "outputs": [],
   "source": [
    "from sklearn import svm\n",
    "model_params = {\n",
    "    'svm': {\n",
    "        'model': svm.SVC(gamma='auto'),\n",
    "        'params' : {\n",
    "            'C': [1,10,20,100],\n",
    "            'kernel': ['rbf','linear','poly','sigmoid']\n",
    "            \n",
    "        }  \n",
    "    },\n",
    "    \"\"\"'random_forest': {\n",
    "        'model': RandomForestClassifier(),\n",
    "        'params' : {\n",
    "            'n_estimators': [10,1000],\n",
    "            'random_state': [10,1]\n",
    "        }\n",
    "    },\"\"\"\n",
    "    'logistic_regression' : {\n",
    "        'model': LogisticRegression(solver='liblinear',multi_class='auto'),\n",
    "        'params': {\n",
    "            'C': [1,5,20]\n",
    "        },\n",
    "    \n",
    "    'Naive_Bayes' : {\n",
    "        'model': BernoulliNB(),\n",
    "        'params': {\n",
    "            'alpha': [0,1],\n",
    "            'binarize': [0.0,0.1,0.2,1.0],\n",
    "            'fit_prior': [True,False]\n",
    "        }\n",
    "    }\n",
    "    }\n",
    "}"
   ]
  },
  {
   "cell_type": "code",
   "execution_count": 34,
   "id": "eca020fc",
   "metadata": {},
   "outputs": [
    {
     "data": {
      "text/html": [
       "<div>\n",
       "<style scoped>\n",
       "    .dataframe tbody tr th:only-of-type {\n",
       "        vertical-align: middle;\n",
       "    }\n",
       "\n",
       "    .dataframe tbody tr th {\n",
       "        vertical-align: top;\n",
       "    }\n",
       "\n",
       "    .dataframe thead th {\n",
       "        text-align: right;\n",
       "    }\n",
       "</style>\n",
       "<table border=\"1\" class=\"dataframe\">\n",
       "  <thead>\n",
       "    <tr style=\"text-align: right;\">\n",
       "      <th></th>\n",
       "      <th>model</th>\n",
       "      <th>best_score</th>\n",
       "      <th>best_params</th>\n",
       "    </tr>\n",
       "  </thead>\n",
       "  <tbody>\n",
       "    <tr>\n",
       "      <th>0</th>\n",
       "      <td>svm</td>\n",
       "      <td>0.835632</td>\n",
       "      <td>{'C': 1, 'kernel': 'sigmoid'}</td>\n",
       "    </tr>\n",
       "    <tr>\n",
       "      <th>1</th>\n",
       "      <td>'random_forest': {\\n        'model': RandomFor...</td>\n",
       "      <td>0.831199</td>\n",
       "      <td>{'C': 1}</td>\n",
       "    </tr>\n",
       "  </tbody>\n",
       "</table>\n",
       "</div>"
      ],
      "text/plain": [
       "                                               model  best_score  \\\n",
       "0                                                svm    0.835632   \n",
       "1  'random_forest': {\\n        'model': RandomFor...    0.831199   \n",
       "\n",
       "                     best_params  \n",
       "0  {'C': 1, 'kernel': 'sigmoid'}  \n",
       "1                       {'C': 1}  "
      ]
     },
     "execution_count": 34,
     "metadata": {},
     "output_type": "execute_result"
    }
   ],
   "source": [
    "from sklearn.model_selection import GridSearchCV\n",
    "scores = []\n",
    "for model_name, mp in model_params.items():\n",
    "    clf =  GridSearchCV(mp['model'], mp['params'], cv=7, return_train_score=False)\n",
    "    clf.fit(x_train,y_train)\n",
    "    scores.append({\n",
    "        'model': model_name,\n",
    "        'best_score': clf.best_score_,\n",
    "        'best_params': clf.best_params_\n",
    "    })\n",
    "df = pd.DataFrame(scores,columns=['model','best_score','best_params'])\n",
    "df"
   ]
  },
  {
   "cell_type": "code",
   "execution_count": null,
   "id": "c62975fa",
   "metadata": {},
   "outputs": [],
   "source": []
  }
 ],
 "metadata": {
  "kernelspec": {
   "display_name": "Python 3 (ipykernel)",
   "language": "python",
   "name": "python3"
  },
  "language_info": {
   "codemirror_mode": {
    "name": "ipython",
    "version": 3
   },
   "file_extension": ".py",
   "mimetype": "text/x-python",
   "name": "python",
   "nbconvert_exporter": "python",
   "pygments_lexer": "ipython3",
   "version": "3.9.7"
  }
 },
 "nbformat": 4,
 "nbformat_minor": 5
}
